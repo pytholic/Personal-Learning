{
 "cells": [
  {
   "cell_type": "code",
   "execution_count": 4,
   "metadata": {},
   "outputs": [
    {
     "name": "stdout",
     "output_type": "stream",
     "text": [
      "Train on 17462 samples, validate on 7484 samples\n",
      "Epoch 1/10\n",
      "17462/17462 [==============================] - 7s 429us/sample - loss: 0.6631 - acc: 0.5906 - val_loss: 0.5965 - val_acc: 0.6829\n",
      "Epoch 2/10\n",
      "17462/17462 [==============================] - 7s 422us/sample - loss: 0.5661 - acc: 0.7088 - val_loss: 0.5489 - val_acc: 0.7198\n",
      "Epoch 3/10\n",
      "17462/17462 [==============================] - 7s 422us/sample - loss: 0.5041 - acc: 0.7548 - val_loss: 0.5334 - val_acc: 0.7356 - loss: 0.5265 - ac - ETA: - ETA: \n",
      "Epoch 4/10\n",
      "17462/17462 [==============================] - 7s 421us/sample - loss: 0.4644 - acc: 0.7793 - val_loss: 0.4960 - val_acc: 0.7587\n",
      "Epoch 5/10\n",
      "17462/17462 [==============================] - 7s 425us/sample - loss: 0.4317 - acc: 0.7995 - val_loss: 0.4966 - val_acc: 0.7560\n",
      "Epoch 6/10\n",
      "17462/17462 [==============================] - 7s 422us/sample - loss: 0.3923 - acc: 0.8206 - val_loss: 0.4739 - val_acc: 0.7871\n",
      "Epoch 7/10\n",
      "17462/17462 [==============================] - 7s 426us/sample - loss: 0.3598 - acc: 0.8361 - val_loss: 0.4867 - val_acc: 0.7782\n",
      "Epoch 8/10\n",
      "17462/17462 [==============================] - 7s 422us/sample - loss: 0.3212 - acc: 0.8580 - val_loss: 0.4841 - val_acc: 0.7850\n",
      "Epoch 9/10\n",
      "17462/17462 [==============================] - 7s 421us/sample - loss: 0.2814 - acc: 0.8804 - val_loss: 0.5135 - val_acc: 0.7727\n",
      "Epoch 10/10\n",
      "17462/17462 [==============================] - 7s 426us/sample - loss: 0.2350 - acc: 0.9038 - val_loss: 0.5310 - val_acc: 0.7814\n"
     ]
    },
    {
     "data": {
      "text/plain": [
       "<tensorflow.python.keras.callbacks.History at 0x7fe61c6fef28>"
      ]
     },
     "execution_count": 4,
     "metadata": {},
     "output_type": "execute_result"
    }
   ],
   "source": [
    "import tensorflow as tf\n",
    "from tensorflow.keras.datasets import cifar10\n",
    "from tensorflow.keras.preprocessing.image import ImageDataGenerator\n",
    "from tensorflow.keras.models import Sequential\n",
    "from tensorflow.keras.layers import Dense, Dropout, Activation, Flatten\n",
    "from tensorflow.keras.layers import Conv2D, MaxPooling2D\n",
    "\n",
    "import pickle\n",
    "\n",
    "tf.compat.v1.disable_eager_execution()\n",
    "\n",
    "pickle_in = open(\"X.pickle\",\"rb\")\n",
    "X = pickle.load(pickle_in)\n",
    "\n",
    "pickle_in = open(\"y.pickle\",\"rb\")\n",
    "y = pickle.load(pickle_in)\n",
    "\n",
    "X = X/255.0\n",
    "\n",
    "model = Sequential()\n",
    "\n",
    "model.add(Conv2D(256, (3, 3), input_shape=X.shape[1:]))\n",
    "model.add(Activation('relu'))\n",
    "model.add(MaxPooling2D(pool_size=(2, 2)))\n",
    "\n",
    "model.add(Conv2D(256, (3, 3)))\n",
    "model.add(Activation('relu'))\n",
    "model.add(MaxPooling2D(pool_size=(2, 2)))\n",
    "\n",
    "model.add(Flatten())  # this converts our 3D feature maps to 1D feature vectors\n",
    "\n",
    "model.add(Dense(64))\n",
    "model.add(Activation('relu'))\n",
    "\n",
    "model.add(Dense(1))\n",
    "model.add(Activation('sigmoid'))\n",
    "\n",
    "model.compile(loss='binary_crossentropy',\n",
    "              optimizer='adam',\n",
    "              metrics=['accuracy'])\n",
    "\n",
    "model.fit(X, y, batch_size=64, epochs=10, validation_split=0.3)"
   ]
  },
  {
   "cell_type": "code",
   "execution_count": null,
   "metadata": {},
   "outputs": [],
   "source": []
  }
 ],
 "metadata": {
  "kernelspec": {
   "display_name": "Python 3",
   "language": "python",
   "name": "python3"
  },
  "language_info": {
   "codemirror_mode": {
    "name": "ipython",
    "version": 3
   },
   "file_extension": ".py",
   "mimetype": "text/x-python",
   "name": "python",
   "nbconvert_exporter": "python",
   "pygments_lexer": "ipython3",
   "version": "3.6.9"
  }
 },
 "nbformat": 4,
 "nbformat_minor": 2
}
